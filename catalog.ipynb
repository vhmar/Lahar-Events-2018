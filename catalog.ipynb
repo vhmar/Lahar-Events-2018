{
 "cells": [
  {
   "cell_type": "markdown",
   "metadata": {},
   "source": [
    "\n",
    "### Lahares 2018: barranca Montegrande\n",
    "| | | <span style=\"color:red\"> RESCO (21) | | | | <span style=\"color:green\"> RBerry (13) Geo (2) | | | | <span style=\"color:blue\">CUBE (15)| | | |\n",
    "|--|--|--|--|--|--|\n",
    "| Num | Fecha y hora (GMT) | Duración | Amplitud Máx. | Rango de frec. | Frec. Máx. |  Duración | Amplitud Máx. | Rango de frec. | Frec. Máx. |  Duración | Amplitud Máx. | Rango de frec. | Frec. Máx. |\n",
    "| L1 | 07/05 8:45-10:20 | 1h35m.NOT| | | | -- | | | | -- | | | |\n",
    "| L2 | 09/07 20:30-23:00 | 1h30m | | | | -- | | | | -- | | | |\n",
    "| **L3** |15/07 21:30-23:30 | ~1h15m | | | | 1h10m | | | | ~1h | | | |\n",
    "|L4 |25/07 13:20-21? | revisar.not | | | | | | | | | | | | |\n",
    "| **L5** |28/07 22:30-24 | ~1h | | | | ~1h | | | | ~1h | | | |\n",
    "| L6 |30/07 13:00-15:30 | ~2h.not | | | | ~1h45m | | | | ~2h15m | | | |\n",
    "| **L7** |16/08 19:00-22:00 | ~2h | | | | ~1h45m | | | | ~1h30m | | | |\n",
    "| **L8** |17/08 22:00-24 | ~45m | | | | ~1h | | | | ~1h | | | |\n",
    "| **L9** |18/08 23:30-01:00(19/08) | ~1h | | | | ~1h | | | | ~1h15m | | | | \n",
    "| **L10** |22/08 23:20-00:25(23/08) | ~45m | | | | ~45m | | | | ~1h | | | |\n",
    "| **L11** |23/08 22:00-24:00 | ~1h15m | | | | ~1h15m | | | | ~1h15m | | | |\n",
    "| L12 | 10/09 19:30-21:00 | ~1h | | | | -- | | | | ~50m | | | |\n",
    "| L13 |23/09 04:30-06:30 | ~1h20m | | | | -- | | | | ~1h30m | | | |\n",
    "| L14 |24/09 01:15-? | 1h*rev* | señal| cortada | | -- | | | | ~1h | | | |\n",
    "| L15 |03/10 23:20-01:30(4/10) | ~1h30m | | | | -- | | | | ~2h | | | |\n",
    "| L16 |06/10 19:00-20:45 | ~1h30m | | | | -- | | | | ~1h15m | | | |\n",
    "| **L17** |06/10 23:30-01:30(7/10) | ~1h15m | | | | ~1h30m | | | | ~1h30m | | | |\n",
    "| L18 |12/10 18:45-20:45 | ~1h15m | | | | ~1h15m | | | | -- | | | |\n",
    "| L19 |17/10 22:15-23:15 | ~45m | | | | -- | | | | -- | | | | \n",
    "| L20 |19/10 23:30-01:00(20/10) | ~1h5m | | | | ~1h30m | | | | -- | | | | \n",
    "| L21 |28/10 22:30-23:40 | ~1h | | | | ~45m | | | | -- | | | | \n",
    "\n",
    "\n"
   ]
  },
  {
   "cell_type": "markdown",
   "metadata": {},
   "source": [
    "### 8 con tres estaciones "
   ]
  },
  {
   "cell_type": "markdown",
   "metadata": {},
   "source": [
    "\n",
    "### Lahares 2018: barranca Montegrande\n",
    "| | | | <span style=\"color:#59afe1\"> Infra | | | <span style=\"color:red\"> RESCO | | | <span style=\"color:blue\"> CGEO | | |  <span style=\"color:green\">CUBE | | | |\n",
    "|--|--|--|--|--|--|\n",
    "    | Num | Fecha y hora (GMT) | Duración | Amplitud Máx <sup>1</sup> | Rango de Frec<sup>2</sup> | Frec. Máx <sup>2</sup>. | Amplitud Máx<sup>1</sup>. | Rango de frec<sup>2</sup>. | Frec. Máx<sup>2</sup>. | Amplitud Máx<sup>1</sup>. | Rango de frec<sup>2</sup>. | Frec. Máx<sup>2</sup>. | Amplitud Máx<sup>1</sup>. | Rango de frec<sup>2</sup>. | Frec. Máx<sup>2</sup>. |\n",
    "| **L3** |15/07 21:30-23:30 | 2h | ~750,000 | 12-16, 26-30 | 13.5,29| ~40,000 | 8-33 | 26 | ~80,000 | 10-42 | 22 | ~5,000,000 | 18-80 | 45 |\n",
    "| **L5** |28/07 22:30-24 | ~1h30min | ~60,000 | 12-18, 28-31 | 14,28 | ~250,000 | 5-35 | 12 | ~90,000 | 12-40 | 22 | ~10,000,000 | 12-40 | 25 |\n",
    "| **L7** |16/08 19:00-22:00 | ~3h | ~60,000 | 11-18, 24-28 | 13 | ~24,000 | 13-33 | 23 | ~60,000 | 10-43 | 34.5 | ~2,000,000 | 25-42 | 37 |\n",
    "| **L8** |17/08 22:00-24 | ~1h30min | ~180,000 | 11-16, 27-31 | 13.5 | ~13,000 | 9-31 | 15 |  ~110,000 | 10-44 | 21.5 | ~5,600,000 | 11-41 | 25.5 |\n",
    "| **L9** |18/08 23:30-01:00(19/08) | ~1h | ~220,000 | 11-16, 26-30.5 | 13.5, 28.5 | 90,000 |  8-23 | 12.5 | ~650,000 | 9-25 | 12 | ~10,000,000 | 10.5-30 | 13.5 | \n",
    "| **L10** |22/08 23:20-00:25(23/08) | ~1h | ~85,000 | 10-16, 26-30 | 13, 28 | ~60,000 | 8-28 | 12 | ~700,000 | 9-27 | 12 | ~12,000,000 | 11-31 | 13.5 |\n",
    "| **L11** |23/08 22:00-24:00 | ~1h30m | ~220,000 | 11-15.5, 25.5-30 | 13, 26.5 | ~120,000 | 7-24 | 10.5 | ~850,000 | 8-24 | 12 | ~11,000,000 | 9-26 | 13 |\n",
    "| **L17** |06/10 23:30-01:30(7/10) | ~1h45m | ~110,000 | 10-16, 26.5-30 | 13, 28 | 28,000 | 8-27| 11 | 220,000 | 9-44 | 16.5 | 10,000,000 | 11-41 | 13.5 |\n",
    "\n",
    "#### 1-Valores de amplitud en cuentas\n",
    "#### 2-Valores de frecuencia en Hertz\n"
   ]
  },
  {
   "cell_type": "markdown",
   "metadata": {},
   "source": [
    "\n",
    "### Lahares 2018: barranca Montegrande (con 2 estaciones) RESCO Y CUBE\n",
    "| | | | <span style=\"color:#59afe1\"> Infra | | | <span style=\"color:red\"> RESCO | | | <span style=\"color:green\"> CUBE | | | \n",
    "|--|--|--|--|--|--|\n",
    "    | Num | Fecha y hora (GMT) | Duración | Amplitud Máx <sup>1</sup> | Rango de Frec<sup>2</sup> | Frec. Máx <sup>2</sup>. | Amplitud Máx<sup>1</sup>. | Rango de frec<sup>2</sup>. | Frec. Máx<sup>2</sup>. | Amplitud Máx<sup>1</sup>. | Rango de frec<sup>2</sup>. | Frec. Máx<sup>2</sup>. | \n",
    "| **L12** | 10/09 19:30-21:00 | 1h30min | ~65,000 | 12-16, 24-30 | 13.5,28 | ~42,000 | 8-33 | 23.5 | ~8,000,000 | 10-42 | 16 | \n",
    "| **L13** |23/09 04:30-6:30 | 2h | ~170,000 | 11-15, 24-30 | 13.5, 29 | ~130,000 | 7-29 | 11 | ~10,000,000 | 10-40 | 13.5 |    \n",
    "| **L14** |24/09 01:15-? | | |  |  |  |  |  |  |  |  |  \n",
    "| **L15** | 03/10 23:20-01:30(04/10) | ~1h30min | ~190,000 | 10.5-16, 24-30 | 13,28 | ~120,000 | 6-27 | 11.5 | ~9,500,000 | 8-42 | 13.5 |     \n",
    "| **L16** |06/10 19:00-20:45 | ~1h30min | ~29,000 | 11-16, 24-29.5 | 13.5, 27.5 | ~15,000 | 8-37 | 22 | ~1,300,000 | 12-43 | 27 |   \n",
    "    \n",
    "\n",
    "### Lahares 2018: barranca Montegrande (con 2 estaciones) RESCO Y CGEO (Geófono)\n",
    "| | | | <span style=\"color:#59afe1\"> Infra | | | <span style=\"color:red\"> RESCO | | | <span style=\"color:blue\"> CGEO | | | \n",
    "|--|--|--|--|--|--|\n",
    "    | Num | Fecha y hora (GMT) | Duración | Amplitud Máx <sup>1</sup> | Rango de Frec<sup>2</sup> | Frec. Máx <sup>2</sup>. | Amplitud Máx<sup>1</sup>. | Rango de frec<sup>2</sup>. | Frec. Máx<sup>2</sup>. | Amplitud Máx<sup>1</sup>. | Rango de frec<sup>2</sup>. | Frec. Máx<sup>2</sup>. | \n",
    "| **L18** | 12/10 18:45-20:45 | 2h | ~190,000  | 11-16, 23-30 | 13.5,27.5 | ~170,000 | 7-28 | 11 | ~610,000 | 7-36 | 11.5 | \n",
    "| **L20** | 19/10 23:30-01:00(20/10)| 1h30min | |  |  |  | |  |  |  |  |    \n",
    "| **L21** | 28/10 22:30-23:40? | ~1h | |  |  |  |  |  |  |  |  |  |\n",
    "\n",
    "\n",
    "#### 1-Valores de amplitud en cuentas\n",
    "#### 2-Valores de frecuencia en Hertz\n",
    " "
   ]
  },
  {
   "cell_type": "code",
   "execution_count": null,
   "metadata": {},
   "outputs": [],
   "source": []
  }
 ],
 "metadata": {
  "@webio": {
   "lastCommId": null,
   "lastKernelId": null
  },
  "kernelspec": {
   "display_name": "Python 3",
   "language": "python",
   "name": "python3"
  },
  "language_info": {
   "codemirror_mode": {
    "name": "ipython",
    "version": 3
   },
   "file_extension": ".py",
   "mimetype": "text/x-python",
   "name": "python",
   "nbconvert_exporter": "python",
   "pygments_lexer": "ipython3",
   "version": "3.6.4"
  }
 },
 "nbformat": 4,
 "nbformat_minor": 2
}
